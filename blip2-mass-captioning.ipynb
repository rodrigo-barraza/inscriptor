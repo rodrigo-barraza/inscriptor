{
  "cells": [
    {
      "attachments": {},
      "cell_type": "markdown",
      "metadata": {
        "id": "kTKASCQg9nU5"
      },
      "source": [
        "# Rodrigo Barraza's Inscriptions: Blip 2 Mass Captioning\n",
        "Large RAM and VRAM is required to load the larger models. RAM should be at least 24-32GB with 64GB being optimal. VRAM should be at least 16GB or more."
      ]
    },
    {
      "cell_type": "code",
      "execution_count": 1,
      "metadata": {
        "colab": {
          "base_uri": "https://localhost:8080/",
          "height": 1000
        },
        "id": "mLI_ic0j9nU-",
        "outputId": "4b079d97-cddd-41ec-8936-23518f8a129a"
      },
      "outputs": [
        {
          "name": "stdout",
          "output_type": "stream",
          "text": [
            "Requirement already satisfied: salesforce-lavis in /home/rodrigo/.local/lib/python3.8/site-packages (1.0.2)\n",
            "Requirement already satisfied: packaging in /home/rodrigo/.local/lib/python3.8/site-packages (from salesforce-lavis) (21.3)\n",
            "Requirement already satisfied: plotly in /home/rodrigo/.local/lib/python3.8/site-packages (from salesforce-lavis) (5.13.1)\n",
            "Requirement already satisfied: timm==0.4.12 in /home/rodrigo/.local/lib/python3.8/site-packages (from salesforce-lavis) (0.4.12)\n",
            "Requirement already satisfied: webdataset in /home/rodrigo/.local/lib/python3.8/site-packages (from salesforce-lavis) (0.2.35)\n",
            "Requirement already satisfied: ftfy in /home/rodrigo/.local/lib/python3.8/site-packages (from salesforce-lavis) (6.1.1)\n",
            "Requirement already satisfied: pre-commit in /home/rodrigo/.local/lib/python3.8/site-packages (from salesforce-lavis) (3.1.1)\n",
            "Requirement already satisfied: tqdm in /home/rodrigo/miniconda3/envs/blip2demo/lib/python3.8/site-packages (from salesforce-lavis) (4.64.1)\n",
            "Requirement already satisfied: transformers<4.27,>=4.25.0 in /home/rodrigo/.local/lib/python3.8/site-packages (from salesforce-lavis) (4.26.1)\n",
            "Requirement already satisfied: pycocoevalcap in /home/rodrigo/.local/lib/python3.8/site-packages (from salesforce-lavis) (1.2)\n",
            "Requirement already satisfied: torchvision in /home/rodrigo/.local/lib/python3.8/site-packages (from salesforce-lavis) (0.14.1+cu117)\n",
            "Requirement already satisfied: fairscale==0.4.4 in /home/rodrigo/.local/lib/python3.8/site-packages (from salesforce-lavis) (0.4.4)\n",
            "Requirement already satisfied: opendatasets in /home/rodrigo/.local/lib/python3.8/site-packages (from salesforce-lavis) (0.1.22)\n",
            "Requirement already satisfied: python-magic in /home/rodrigo/.local/lib/python3.8/site-packages (from salesforce-lavis) (0.4.27)\n",
            "Requirement already satisfied: scikit-image in /home/rodrigo/.local/lib/python3.8/site-packages (from salesforce-lavis) (0.20.0)\n",
            "Requirement already satisfied: sentencepiece in /home/rodrigo/.local/lib/python3.8/site-packages (from salesforce-lavis) (0.1.97)\n",
            "Requirement already satisfied: omegaconf in /home/rodrigo/.local/lib/python3.8/site-packages (from salesforce-lavis) (2.2.3)\n",
            "Requirement already satisfied: decord in /home/rodrigo/.local/lib/python3.8/site-packages (from salesforce-lavis) (0.6.0)\n",
            "Requirement already satisfied: torch>=1.10.0 in /home/rodrigo/.local/lib/python3.8/site-packages (from salesforce-lavis) (1.13.1)\n",
            "Requirement already satisfied: ipython in /home/rodrigo/miniconda3/envs/blip2demo/lib/python3.8/site-packages (from salesforce-lavis) (8.8.0)\n",
            "Requirement already satisfied: pandas in /home/rodrigo/.local/lib/python3.8/site-packages (from salesforce-lavis) (1.4.4)\n",
            "Requirement already satisfied: spacy in /home/rodrigo/.local/lib/python3.8/site-packages (from salesforce-lavis) (3.5.0)\n",
            "Requirement already satisfied: pycocotools in /home/rodrigo/.local/lib/python3.8/site-packages (from salesforce-lavis) (2.0.6)\n",
            "Requirement already satisfied: streamlit in /home/rodrigo/.local/lib/python3.8/site-packages (from salesforce-lavis) (1.19.0)\n",
            "Requirement already satisfied: contexttimer in /home/rodrigo/.local/lib/python3.8/site-packages (from salesforce-lavis) (0.3.3)\n",
            "Requirement already satisfied: wheel in /home/rodrigo/.local/lib/python3.8/site-packages (from salesforce-lavis) (0.38.4)\n",
            "Requirement already satisfied: einops>=0.4.1 in /home/rodrigo/.local/lib/python3.8/site-packages (from salesforce-lavis) (0.4.1)\n",
            "Requirement already satisfied: iopath in /home/rodrigo/.local/lib/python3.8/site-packages (from salesforce-lavis) (0.1.10)\n",
            "Requirement already satisfied: opencv-python-headless==4.5.5.64 in /home/rodrigo/.local/lib/python3.8/site-packages (from salesforce-lavis) (4.5.5.64)\n",
            "Requirement already satisfied: numpy>=1.17.3 in /home/rodrigo/.local/lib/python3.8/site-packages (from opencv-python-headless==4.5.5.64->salesforce-lavis) (1.23.4)\n",
            "Requirement already satisfied: nvidia-cublas-cu11==11.10.3.66 in /home/rodrigo/.local/lib/python3.8/site-packages (from torch>=1.10.0->salesforce-lavis) (11.10.3.66)\n",
            "Requirement already satisfied: nvidia-cuda-nvrtc-cu11==11.7.99 in /home/rodrigo/.local/lib/python3.8/site-packages (from torch>=1.10.0->salesforce-lavis) (11.7.99)\n",
            "Requirement already satisfied: nvidia-cuda-runtime-cu11==11.7.99 in /home/rodrigo/.local/lib/python3.8/site-packages (from torch>=1.10.0->salesforce-lavis) (11.7.99)\n",
            "Requirement already satisfied: nvidia-cudnn-cu11==8.5.0.96 in /home/rodrigo/.local/lib/python3.8/site-packages (from torch>=1.10.0->salesforce-lavis) (8.5.0.96)\n",
            "Requirement already satisfied: typing-extensions in /home/rodrigo/.local/lib/python3.8/site-packages (from torch>=1.10.0->salesforce-lavis) (4.4.0)\n",
            "Requirement already satisfied: setuptools in /home/rodrigo/.local/lib/python3.8/site-packages (from nvidia-cublas-cu11==11.10.3.66->torch>=1.10.0->salesforce-lavis) (65.5.1)\n",
            "Requirement already satisfied: filelock in /home/rodrigo/.local/lib/python3.8/site-packages (from transformers<4.27,>=4.25.0->salesforce-lavis) (3.8.0)\n",
            "Requirement already satisfied: regex!=2019.12.17 in /home/rodrigo/.local/lib/python3.8/site-packages (from transformers<4.27,>=4.25.0->salesforce-lavis) (2022.8.17)\n",
            "Requirement already satisfied: pyyaml>=5.1 in /home/rodrigo/.local/lib/python3.8/site-packages (from transformers<4.27,>=4.25.0->salesforce-lavis) (6.0)\n",
            "Requirement already satisfied: tokenizers!=0.11.3,<0.14,>=0.11.1 in /home/rodrigo/.local/lib/python3.8/site-packages (from transformers<4.27,>=4.25.0->salesforce-lavis) (0.13.2)\n",
            "Requirement already satisfied: requests in /home/rodrigo/.local/lib/python3.8/site-packages (from transformers<4.27,>=4.25.0->salesforce-lavis) (2.25.1)\n",
            "Requirement already satisfied: huggingface-hub<1.0,>=0.11.0 in /home/rodrigo/.local/lib/python3.8/site-packages (from transformers<4.27,>=4.25.0->salesforce-lavis) (0.12.1)\n",
            "Requirement already satisfied: pyparsing!=3.0.5,>=2.0.2 in /home/rodrigo/.local/lib/python3.8/site-packages (from packaging->salesforce-lavis) (3.0.9)\n",
            "Requirement already satisfied: wcwidth>=0.2.5 in /home/rodrigo/.local/lib/python3.8/site-packages (from ftfy->salesforce-lavis) (0.2.5)\n",
            "Requirement already satisfied: portalocker in /home/rodrigo/.local/lib/python3.8/site-packages (from iopath->salesforce-lavis) (2.7.0)\n",
            "Requirement already satisfied: pexpect>4.3 in /home/rodrigo/miniconda3/envs/blip2demo/lib/python3.8/site-packages (from ipython->salesforce-lavis) (4.8.0)\n",
            "Requirement already satisfied: decorator in /home/rodrigo/miniconda3/envs/blip2demo/lib/python3.8/site-packages (from ipython->salesforce-lavis) (5.1.1)\n",
            "Requirement already satisfied: stack-data in /home/rodrigo/.local/lib/python3.8/site-packages (from ipython->salesforce-lavis) (0.5.0)\n",
            "Requirement already satisfied: backcall in /home/rodrigo/miniconda3/envs/blip2demo/lib/python3.8/site-packages (from ipython->salesforce-lavis) (0.2.0)\n",
            "Requirement already satisfied: pygments>=2.4.0 in /home/rodrigo/.local/lib/python3.8/site-packages (from ipython->salesforce-lavis) (2.14.0)\n",
            "Requirement already satisfied: jedi>=0.16 in /home/rodrigo/.local/lib/python3.8/site-packages (from ipython->salesforce-lavis) (0.18.1)\n",
            "Requirement already satisfied: traitlets>=5 in /home/rodrigo/.local/lib/python3.8/site-packages (from ipython->salesforce-lavis) (5.3.0)\n",
            "Requirement already satisfied: matplotlib-inline in /home/rodrigo/.local/lib/python3.8/site-packages (from ipython->salesforce-lavis) (0.1.6)\n",
            "Requirement already satisfied: pickleshare in /home/rodrigo/miniconda3/envs/blip2demo/lib/python3.8/site-packages (from ipython->salesforce-lavis) (0.7.5)\n",
            "Requirement already satisfied: prompt-toolkit<3.1.0,>=3.0.11 in /home/rodrigo/miniconda3/envs/blip2demo/lib/python3.8/site-packages (from ipython->salesforce-lavis) (3.0.36)\n",
            "Requirement already satisfied: antlr4-python3-runtime==4.9.* in /home/rodrigo/.local/lib/python3.8/site-packages (from omegaconf->salesforce-lavis) (4.9.3)\n",
            "Requirement already satisfied: kaggle in /home/rodrigo/.local/lib/python3.8/site-packages (from opendatasets->salesforce-lavis) (1.5.13)\n",
            "Requirement already satisfied: click in /home/rodrigo/.local/lib/python3.8/site-packages (from opendatasets->salesforce-lavis) (8.1.3)\n",
            "Requirement already satisfied: pytz>=2020.1 in /home/rodrigo/.local/lib/python3.8/site-packages (from pandas->salesforce-lavis) (2022.2.1)\n",
            "Requirement already satisfied: python-dateutil>=2.8.1 in /home/rodrigo/.local/lib/python3.8/site-packages (from pandas->salesforce-lavis) (2.8.2)\n",
            "Requirement already satisfied: tenacity>=6.2.0 in /home/rodrigo/.local/lib/python3.8/site-packages (from plotly->salesforce-lavis) (8.2.2)\n",
            "Requirement already satisfied: virtualenv>=20.10.0 in /home/rodrigo/.local/lib/python3.8/site-packages (from pre-commit->salesforce-lavis) (20.20.0)\n",
            "Requirement already satisfied: identify>=1.0.0 in /home/rodrigo/.local/lib/python3.8/site-packages (from pre-commit->salesforce-lavis) (2.5.18)\n",
            "Requirement already satisfied: cfgv>=2.0.0 in /home/rodrigo/.local/lib/python3.8/site-packages (from pre-commit->salesforce-lavis) (3.3.1)\n",
            "Requirement already satisfied: nodeenv>=0.11.1 in /home/rodrigo/.local/lib/python3.8/site-packages (from pre-commit->salesforce-lavis) (1.7.0)\n",
            "Requirement already satisfied: matplotlib>=2.1.0 in /home/rodrigo/.local/lib/python3.8/site-packages (from pycocotools->salesforce-lavis) (3.5.3)\n",
            "Requirement already satisfied: tifffile>=2019.7.26 in /home/rodrigo/.local/lib/python3.8/site-packages (from scikit-image->salesforce-lavis) (2023.2.28)\n",
            "Requirement already satisfied: networkx>=2.8 in /home/rodrigo/.local/lib/python3.8/site-packages (from scikit-image->salesforce-lavis) (3.0)\n",
            "Requirement already satisfied: PyWavelets>=1.1.1 in /home/rodrigo/.local/lib/python3.8/site-packages (from scikit-image->salesforce-lavis) (1.4.1)\n",
            "Requirement already satisfied: pillow>=9.0.1 in /home/rodrigo/.local/lib/python3.8/site-packages (from scikit-image->salesforce-lavis) (9.0.1)\n",
            "Requirement already satisfied: imageio>=2.4.1 in /home/rodrigo/miniconda3/envs/blip2demo/lib/python3.8/site-packages (from scikit-image->salesforce-lavis) (2.25.0)\n",
            "Requirement already satisfied: lazy_loader>=0.1 in /home/rodrigo/.local/lib/python3.8/site-packages (from scikit-image->salesforce-lavis) (0.1)\n",
            "Requirement already satisfied: scipy<1.9.2,>=1.8 in /home/rodrigo/.local/lib/python3.8/site-packages (from scikit-image->salesforce-lavis) (1.9.1)\n",
            "Requirement already satisfied: pydantic!=1.8,!=1.8.1,<1.11.0,>=1.7.4 in /home/rodrigo/.local/lib/python3.8/site-packages (from spacy->salesforce-lavis) (1.10.5)\n",
            "Requirement already satisfied: jinja2 in /home/rodrigo/.local/lib/python3.8/site-packages (from spacy->salesforce-lavis) (3.1.2)\n",
            "Requirement already satisfied: langcodes<4.0.0,>=3.2.0 in /home/rodrigo/.local/lib/python3.8/site-packages (from spacy->salesforce-lavis) (3.3.0)\n",
            "Requirement already satisfied: spacy-loggers<2.0.0,>=1.0.0 in /home/rodrigo/.local/lib/python3.8/site-packages (from spacy->salesforce-lavis) (1.0.4)\n",
            "Requirement already satisfied: pathy>=0.10.0 in /home/rodrigo/.local/lib/python3.8/site-packages (from spacy->salesforce-lavis) (0.10.1)\n",
            "Requirement already satisfied: smart-open<7.0.0,>=5.2.1 in /home/rodrigo/.local/lib/python3.8/site-packages (from spacy->salesforce-lavis) (6.3.0)\n",
            "Requirement already satisfied: spacy-legacy<3.1.0,>=3.0.11 in /home/rodrigo/.local/lib/python3.8/site-packages (from spacy->salesforce-lavis) (3.0.12)\n",
            "Requirement already satisfied: preshed<3.1.0,>=3.0.2 in /home/rodrigo/.local/lib/python3.8/site-packages (from spacy->salesforce-lavis) (3.0.8)\n",
            "Requirement already satisfied: srsly<3.0.0,>=2.4.3 in /home/rodrigo/.local/lib/python3.8/site-packages (from spacy->salesforce-lavis) (2.4.6)\n",
            "Requirement already satisfied: catalogue<2.1.0,>=2.0.6 in /home/rodrigo/.local/lib/python3.8/site-packages (from spacy->salesforce-lavis) (2.0.8)\n",
            "Requirement already satisfied: typer<0.8.0,>=0.3.0 in /home/rodrigo/.local/lib/python3.8/site-packages (from spacy->salesforce-lavis) (0.7.0)\n",
            "Requirement already satisfied: wasabi<1.2.0,>=0.9.1 in /home/rodrigo/.local/lib/python3.8/site-packages (from spacy->salesforce-lavis) (1.1.1)\n",
            "Requirement already satisfied: thinc<8.2.0,>=8.1.0 in /home/rodrigo/.local/lib/python3.8/site-packages (from spacy->salesforce-lavis) (8.1.8)\n",
            "Requirement already satisfied: cymem<2.1.0,>=2.0.2 in /home/rodrigo/.local/lib/python3.8/site-packages (from spacy->salesforce-lavis) (2.0.7)\n",
            "Requirement already satisfied: murmurhash<1.1.0,>=0.28.0 in /home/rodrigo/.local/lib/python3.8/site-packages (from spacy->salesforce-lavis) (1.0.9)\n",
            "Requirement already satisfied: protobuf<4,>=3.12 in /home/rodrigo/.local/lib/python3.8/site-packages (from streamlit->salesforce-lavis) (3.19.6)\n",
            "Requirement already satisfied: cachetools>=4.0 in /home/rodrigo/.local/lib/python3.8/site-packages (from streamlit->salesforce-lavis) (5.2.0)\n",
            "Requirement already satisfied: pympler>=0.9 in /home/rodrigo/.local/lib/python3.8/site-packages (from streamlit->salesforce-lavis) (1.0.1)\n",
            "Requirement already satisfied: pyarrow>=4.0 in /home/rodrigo/.local/lib/python3.8/site-packages (from streamlit->salesforce-lavis) (11.0.0)\n",
            "Requirement already satisfied: blinker>=1.0.0 in /home/rodrigo/miniconda3/envs/blip2demo/lib/python3.8/site-packages (from streamlit->salesforce-lavis) (1.5)\n",
            "Requirement already satisfied: pydeck>=0.1.dev5 in /home/rodrigo/.local/lib/python3.8/site-packages (from streamlit->salesforce-lavis) (0.8.0)\n",
            "Requirement already satisfied: toml in /home/rodrigo/.local/lib/python3.8/site-packages (from streamlit->salesforce-lavis) (0.10.2)\n",
            "Requirement already satisfied: semver in /home/rodrigo/.local/lib/python3.8/site-packages (from streamlit->salesforce-lavis) (2.13.0)\n",
            "Requirement already satisfied: watchdog in /home/rodrigo/.local/lib/python3.8/site-packages (from streamlit->salesforce-lavis) (2.3.1)\n",
            "Requirement already satisfied: altair>=3.2.0 in /home/rodrigo/.local/lib/python3.8/site-packages (from streamlit->salesforce-lavis) (4.2.2)\n",
            "Requirement already satisfied: rich>=10.11.0 in /home/rodrigo/.local/lib/python3.8/site-packages (from streamlit->salesforce-lavis) (13.3.1)\n",
            "Requirement already satisfied: gitpython!=3.1.19 in /home/rodrigo/.local/lib/python3.8/site-packages (from streamlit->salesforce-lavis) (3.1.31)\n",
            "Requirement already satisfied: tornado>=6.0.3 in /home/rodrigo/.local/lib/python3.8/site-packages (from streamlit->salesforce-lavis) (6.2)\n",
            "Requirement already satisfied: validators>=0.2 in /home/rodrigo/.local/lib/python3.8/site-packages (from streamlit->salesforce-lavis) (0.20.0)\n",
            "Requirement already satisfied: importlib-metadata>=1.4 in /home/rodrigo/.local/lib/python3.8/site-packages (from streamlit->salesforce-lavis) (4.12.0)\n",
            "Requirement already satisfied: tzlocal>=1.1 in /home/rodrigo/.local/lib/python3.8/site-packages (from streamlit->salesforce-lavis) (4.2)\n",
            "Requirement already satisfied: braceexpand in /home/rodrigo/.local/lib/python3.8/site-packages (from webdataset->salesforce-lavis) (0.1.7)\n",
            "Requirement already satisfied: entrypoints in /home/rodrigo/miniconda3/envs/blip2demo/lib/python3.8/site-packages (from altair>=3.2.0->streamlit->salesforce-lavis) (0.4)\n",
            "Requirement already satisfied: toolz in /home/rodrigo/.local/lib/python3.8/site-packages (from altair>=3.2.0->streamlit->salesforce-lavis) (0.12.0)\n",
            "Requirement already satisfied: jsonschema>=3.0 in /home/rodrigo/miniconda3/envs/blip2demo/lib/python3.8/site-packages (from altair>=3.2.0->streamlit->salesforce-lavis) (4.17.3)\n",
            "Requirement already satisfied: gitdb<5,>=4.0.1 in /home/rodrigo/.local/lib/python3.8/site-packages (from gitpython!=3.1.19->streamlit->salesforce-lavis) (4.0.10)\n",
            "Requirement already satisfied: zipp>=0.5 in /home/rodrigo/miniconda3/envs/blip2demo/lib/python3.8/site-packages (from importlib-metadata>=1.4->streamlit->salesforce-lavis) (3.12.0)\n",
            "Requirement already satisfied: parso<0.9.0,>=0.8.0 in /home/rodrigo/.local/lib/python3.8/site-packages (from jedi>=0.16->ipython->salesforce-lavis) (0.8.3)\n",
            "Requirement already satisfied: cycler>=0.10 in /home/rodrigo/.local/lib/python3.8/site-packages (from matplotlib>=2.1.0->pycocotools->salesforce-lavis) (0.11.0)\n",
            "Requirement already satisfied: kiwisolver>=1.0.1 in /home/rodrigo/.local/lib/python3.8/site-packages (from matplotlib>=2.1.0->pycocotools->salesforce-lavis) (1.4.4)\n",
            "Requirement already satisfied: fonttools>=4.22.0 in /home/rodrigo/.local/lib/python3.8/site-packages (from matplotlib>=2.1.0->pycocotools->salesforce-lavis) (4.37.1)\n",
            "Requirement already satisfied: ptyprocess>=0.5 in /home/rodrigo/.local/lib/python3.8/site-packages (from pexpect>4.3->ipython->salesforce-lavis) (0.7.0)\n",
            "Requirement already satisfied: MarkupSafe>=2.0 in /home/rodrigo/.local/lib/python3.8/site-packages (from jinja2->spacy->salesforce-lavis) (2.1.1)\n",
            "Requirement already satisfied: six>=1.5 in /home/rodrigo/miniconda3/envs/blip2demo/lib/python3.8/site-packages (from python-dateutil>=2.8.1->pandas->salesforce-lavis) (1.16.0)\n",
            "Requirement already satisfied: chardet<5,>=3.0.2 in /home/rodrigo/miniconda3/envs/blip2demo/lib/python3.8/site-packages (from requests->transformers<4.27,>=4.25.0->salesforce-lavis) (4.0.0)\n",
            "Requirement already satisfied: idna<3,>=2.5 in /home/rodrigo/miniconda3/envs/blip2demo/lib/python3.8/site-packages (from requests->transformers<4.27,>=4.25.0->salesforce-lavis) (2.10)\n",
            "Requirement already satisfied: urllib3<1.27,>=1.21.1 in /home/rodrigo/miniconda3/envs/blip2demo/lib/python3.8/site-packages (from requests->transformers<4.27,>=4.25.0->salesforce-lavis) (1.26.14)\n",
            "Requirement already satisfied: certifi>=2017.4.17 in /home/rodrigo/miniconda3/envs/blip2demo/lib/python3.8/site-packages (from requests->transformers<4.27,>=4.25.0->salesforce-lavis) (2022.12.7)\n",
            "Requirement already satisfied: markdown-it-py<3.0.0,>=2.1.0 in /home/rodrigo/.local/lib/python3.8/site-packages (from rich>=10.11.0->streamlit->salesforce-lavis) (2.2.0)\n",
            "Requirement already satisfied: confection<1.0.0,>=0.0.1 in /home/rodrigo/.local/lib/python3.8/site-packages (from thinc<8.2.0,>=8.1.0->spacy->salesforce-lavis) (0.0.4)\n",
            "Requirement already satisfied: blis<0.8.0,>=0.7.8 in /home/rodrigo/.local/lib/python3.8/site-packages (from thinc<8.2.0,>=8.1.0->spacy->salesforce-lavis) (0.7.9)\n",
            "Requirement already satisfied: backports.zoneinfo in /home/rodrigo/.local/lib/python3.8/site-packages (from tzlocal>=1.1->streamlit->salesforce-lavis) (0.2.1)\n",
            "Requirement already satisfied: pytz-deprecation-shim in /home/rodrigo/.local/lib/python3.8/site-packages (from tzlocal>=1.1->streamlit->salesforce-lavis) (0.1.0.post0)\n",
            "Requirement already satisfied: distlib<1,>=0.3.6 in /home/rodrigo/.local/lib/python3.8/site-packages (from virtualenv>=20.10.0->pre-commit->salesforce-lavis) (0.3.6)\n",
            "Requirement already satisfied: platformdirs<4,>=2.4 in /home/rodrigo/.local/lib/python3.8/site-packages (from virtualenv>=20.10.0->pre-commit->salesforce-lavis) (3.1.0)\n",
            "Requirement already satisfied: python-slugify in /home/rodrigo/.local/lib/python3.8/site-packages (from kaggle->opendatasets->salesforce-lavis) (8.0.1)\n",
            "Requirement already satisfied: asttokens in /home/rodrigo/.local/lib/python3.8/site-packages (from stack-data->ipython->salesforce-lavis) (2.0.8)\n",
            "Requirement already satisfied: pure-eval in /home/rodrigo/.local/lib/python3.8/site-packages (from stack-data->ipython->salesforce-lavis) (0.2.2)\n",
            "Requirement already satisfied: executing in /home/rodrigo/.local/lib/python3.8/site-packages (from stack-data->ipython->salesforce-lavis) (1.0.0)\n",
            "Requirement already satisfied: smmap<6,>=3.0.1 in /home/rodrigo/.local/lib/python3.8/site-packages (from gitdb<5,>=4.0.1->gitpython!=3.1.19->streamlit->salesforce-lavis) (5.0.0)\n",
            "Requirement already satisfied: attrs>=17.4.0 in /home/rodrigo/miniconda3/envs/blip2demo/lib/python3.8/site-packages (from jsonschema>=3.0->altair>=3.2.0->streamlit->salesforce-lavis) (22.2.0)\n",
            "Requirement already satisfied: importlib-resources>=1.4.0 in /home/rodrigo/miniconda3/envs/blip2demo/lib/python3.8/site-packages (from jsonschema>=3.0->altair>=3.2.0->streamlit->salesforce-lavis) (5.10.2)\n",
            "Requirement already satisfied: pkgutil-resolve-name>=1.3.10 in /home/rodrigo/miniconda3/envs/blip2demo/lib/python3.8/site-packages (from jsonschema>=3.0->altair>=3.2.0->streamlit->salesforce-lavis) (1.3.10)\n",
            "Requirement already satisfied: pyrsistent!=0.17.0,!=0.17.1,!=0.17.2,>=0.14.0 in /home/rodrigo/miniconda3/envs/blip2demo/lib/python3.8/site-packages (from jsonschema>=3.0->altair>=3.2.0->streamlit->salesforce-lavis) (0.19.3)\n",
            "Requirement already satisfied: mdurl~=0.1 in /home/rodrigo/.local/lib/python3.8/site-packages (from markdown-it-py<3.0.0,>=2.1.0->rich>=10.11.0->streamlit->salesforce-lavis) (0.1.2)\n",
            "Requirement already satisfied: text-unidecode>=1.3 in /home/rodrigo/.local/lib/python3.8/site-packages (from python-slugify->kaggle->opendatasets->salesforce-lavis) (1.3)\n",
            "Requirement already satisfied: tzdata in /home/rodrigo/.local/lib/python3.8/site-packages (from pytz-deprecation-shim->tzlocal>=1.1->streamlit->salesforce-lavis) (2022.7)\n",
            "\n",
            "\u001b[1m[\u001b[0m\u001b[34;49mnotice\u001b[0m\u001b[1;39;49m]\u001b[0m\u001b[39;49m A new release of pip available: \u001b[0m\u001b[31;49m22.3.1\u001b[0m\u001b[39;49m -> \u001b[0m\u001b[32;49m23.0.1\u001b[0m\n",
            "\u001b[1m[\u001b[0m\u001b[34;49mnotice\u001b[0m\u001b[1;39;49m]\u001b[0m\u001b[39;49m To update, run: \u001b[0m\u001b[32;49mpip install --upgrade pip\u001b[0m\n",
            "Requirement already satisfied: validators in /home/rodrigo/.local/lib/python3.8/site-packages (0.20.0)\n",
            "Requirement already satisfied: decorator>=3.4.0 in /home/rodrigo/miniconda3/envs/blip2demo/lib/python3.8/site-packages (from validators) (5.1.1)\n",
            "\n",
            "\u001b[1m[\u001b[0m\u001b[34;49mnotice\u001b[0m\u001b[1;39;49m]\u001b[0m\u001b[39;49m A new release of pip available: \u001b[0m\u001b[31;49m22.3.1\u001b[0m\u001b[39;49m -> \u001b[0m\u001b[32;49m23.0.1\u001b[0m\n",
            "\u001b[1m[\u001b[0m\u001b[34;49mnotice\u001b[0m\u001b[1;39;49m]\u001b[0m\u001b[39;49m To update, run: \u001b[0m\u001b[32;49mpip install --upgrade pip\u001b[0m\n"
          ]
        }
      ],
      "source": [
        "!pip3 install salesforce-lavis --upgrade\n",
        "!pip3 install validators"
      ]
    },
    {
      "cell_type": "code",
      "execution_count": 2,
      "metadata": {
        "colab": {
          "base_uri": "https://localhost:8080/"
        },
        "id": "f7c-uVWq9nVB",
        "outputId": "1ed1d302-bc0c-48fd-8e5c-4788f7577c58"
      },
      "outputs": [
        {
          "name": "stderr",
          "output_type": "stream",
          "text": [
            "/home/rodrigo/miniconda3/envs/blip2demo/lib/python3.8/site-packages/tqdm/auto.py:22: TqdmWarning: IProgress not found. Please update jupyter and ipywidgets. See https://ipywidgets.readthedocs.io/en/stable/user_install.html\n",
            "  from .autonotebook import tqdm as notebook_tqdm\n"
          ]
        }
      ],
      "source": [
        "import sys\n",
        "import validators\n",
        "import torch\n",
        "from PIL import Image\n",
        "import requests\n",
        "from lavis.models import load_model_and_preprocess"
      ]
    },
    {
      "attachments": {},
      "cell_type": "markdown",
      "metadata": {
        "id": "85AsbJrs9nVF"
      },
      "source": [
        "#### Load BLIP2 captioning model"
      ]
    },
    {
      "cell_type": "code",
      "execution_count": 3,
      "metadata": {
        "colab": {
          "base_uri": "https://localhost:8080/",
          "height": 235
        },
        "id": "CAObkxLK9nVF",
        "outputId": "59ab7fa9-2410-4112-8a12-da164d742ae1"
      },
      "outputs": [
        {
          "name": "stdout",
          "output_type": "stream",
          "text": [
            "Position interpolate from 16x16 to 26x26\n"
          ]
        },
        {
          "name": "stderr",
          "output_type": "stream",
          "text": [
            "Loading checkpoint shards: 100%|██████████| 2/2 [00:33<00:00, 16.87s/it]\n"
          ]
        },
        {
          "data": {
            "text/plain": [
              "dict_keys(['train', 'eval'])"
            ]
          },
          "execution_count": 3,
          "metadata": {},
          "output_type": "execute_result"
        }
      ],
      "source": [
        "# setup device to use\n",
        "device = torch.device(\"cuda\") if torch.cuda.is_available() else \"cpu\"\n",
        "# we associate a model with its preprocessors to make it easier for inference.\n",
        "model, vis_processors, _ = load_model_and_preprocess(\n",
        "    # name=\"blip2_opt\", model_type=\"pretrain_opt2.7b\", is_eval=True, device=device\n",
        "    # name=\"blip2_opt\", model_type=\"pretrain_opt6.7b\", is_eval=True, device=device\n",
        "    # name=\"blip2_opt\", model_type=\"caption_coco_opt2.7b\", is_eval=True, device=device\n",
        "    name=\"blip2_opt\", model_type=\"caption_coco_opt6.7b\", is_eval=True, device=device\n",
        "    # name=\"blip2_t5\", model_type=\"pretrain_flant5xl\", is_eval=True, device=device\n",
        "    # name=\"blip2_t5\", model_type=\"caption_coco_flant5xl\", is_eval=True, device=device\n",
        "    # This next model is one scary devil in terms of size. It requires at least 32GB of VRAM to run, and will not load on 3090s or 4090s.\n",
        "    # name=\"blip2_t5\", model_type=\"pretrain_flant5xxl\", is_eval=True, device=device\n",
        ")\n",
        "\n",
        "vis_processors.keys()"
      ]
    },
    {
      "attachments": {},
      "cell_type": "markdown",
      "metadata": {
        "id": "wfO5NdZv9nVH"
      },
      "source": [
        "#### Auto Caption"
      ]
    },
    {
      "cell_type": "code",
      "execution_count": 8,
      "metadata": {},
      "outputs": [
        {
          "name": "stdout",
          "output_type": "stream",
          "text": [
            "funko, the simpsons pop vinyl figure\n",
            "/mnt/d/dataset/_characters fictional/dexter mcpherson/funko/dexterslab39.jpeg\n"
          ]
        }
      ],
      "source": [
        "import os\n",
        "from pathlib import Path\n",
        "from IPython.display import clear_output\n",
        "\n",
        "# Start of Options\n",
        "imagesDirectory = \"/mnt/d/dataset/_characters fictional/dexter mcpherson\"\n",
        "useFoldersAsTokens = True # Append the folder names to the beginning of the caption\n",
        "tokensStartOrEnd = 'start' # end or start\n",
        "minTokenLength = 5 # The amount of minimum tokens to generate\n",
        "maxTokenLength = 72 # The maximum amount of tokens to generate\n",
        "numberOfCaptions = 1 # How many captions to generate\n",
        "useNucleusSampling = False\n",
        "repetitionPenalty = 1\n",
        "# End of Options\n",
        "\n",
        "\n",
        "def process_images(dirpath):\n",
        "    suspects = os.listdir(dirpath) \n",
        "    imageSuspects = [filename for filename in suspects if filename.lower().endswith((\".jpg\", \".png\", \".jpeg\", \".webp\", \"gif\"))]\n",
        "\n",
        "    for suspectIndex in range(len(imageSuspects)):\n",
        "        caption = \"\"\n",
        "        suspectsLength = len(imageSuspects) + 1\n",
        "        print(f\"{suspectsLength - suspectIndex}/{suspectsLength}\")\n",
        "        # Load Image\n",
        "        imagePath = imageSuspects[suspectIndex]\n",
        "        imageFilePath = dirpath + \"/\" + imagePath\n",
        "        textFilePath = Path(imageFilePath).with_suffix('.txt')\n",
        "        # If file doesn't exist:\n",
        "        if not os.path.exists(textFilePath):\n",
        "            rawImage = Image.open(imageFilePath).convert('RGB')\n",
        "            # display(rawImage)\n",
        "            image = vis_processors[\"eval\"](rawImage).unsqueeze(0).to(device)\n",
        "            imageCaption = model.generate({\"image\": image}, min_length=minTokenLength, max_length=maxTokenLength, use_nucleus_sampling=useNucleusSampling, num_captions=numberOfCaptions, repetition_penalty=repetitionPenalty)\n",
        "            if useFoldersAsTokens:\n",
        "                relpath = os.path.relpath(dirpath, imagesDirectory)\n",
        "                relpath_parts = relpath.split(os.sep)\n",
        "                if tokensStartOrEnd == 'end':\n",
        "                    caption += imageCaption[0]\n",
        "                    for part in relpath_parts:\n",
        "                        if \"_\" not in part and part != \".\":\n",
        "                            imageCaptionSet = set(imageCaption[0].split())\n",
        "                            if part not in imageCaptionSet:\n",
        "                                    caption += \", \" + part\n",
        "                else:\n",
        "                    caption = \"\"\n",
        "                    for part in relpath_parts:\n",
        "                        if \"_\" not in part and part != \".\":\n",
        "                            imageCaptionSet = set(imageCaption[0].split())\n",
        "                            if part not in imageCaptionSet:\n",
        "                                caption += part + \", \"\n",
        "                    caption += imageCaption[0]\n",
        "            else:\n",
        "                caption = imageCaption[0]\n",
        "            # Remove periods\n",
        "            caption.replace('.', '')\n",
        "            # Save Caption as .txt file\n",
        "            with open(textFilePath, 'w+') as f:\n",
        "                f.write(caption)\n",
        "        clear_output(wait=True)\n",
        "        print(caption)\n",
        "        print(imageFilePath)\n",
        "\n",
        "# Iterate through directories inside directories\n",
        "for dirpath, dirnames, filenames in os.walk(imagesDirectory):\n",
        "    process_images(dirpath)"
      ]
    }
  ],
  "metadata": {
    "colab": {
      "provenance": []
    },
    "kernelspec": {
      "display_name": "blip2demo",
      "language": "python",
      "name": "python3"
    },
    "language_info": {
      "codemirror_mode": {
        "name": "ipython",
        "version": 3
      },
      "file_extension": ".py",
      "mimetype": "text/x-python",
      "name": "python",
      "nbconvert_exporter": "python",
      "pygments_lexer": "ipython3",
      "version": "3.8.16"
    },
    "vscode": {
      "interpreter": {
        "hash": "50c50f1f55c832fff615d4f17bdf1949c2ce06a8f6fb0f097854f91355ce9518"
      }
    }
  },
  "nbformat": 4,
  "nbformat_minor": 0
}
