{
 "cells": [
  {
   "cell_type": "code",
   "execution_count": null,
   "metadata": {},
   "outputs": [],
   "source": [
    "import os\n",
    "from collections import Counter\n",
    "\n",
    "def count_words_in_txt_files(root_folder, output_file_path):\n",
    "    word_count = Counter()\n",
    "\n",
    "    for directory, _, files in os.walk(root_folder):\n",
    "        for file in files:\n",
    "            if file.endswith(\".txt\"):\n",
    "                file_path = os.path.join(directory, file)\n",
    "                with open(file_path, 'r', encoding='utf-8') as f:\n",
    "                    words = f.read().split()\n",
    "                    word_count.update(words)\n",
    "\n",
    "    return word_count\n",
    "\n",
    "root_folder = \"/mnt/d/dataset-1080\"\n",
    "output_file_path = \"`word-count.txt`\"\n",
    "result = count_words_in_txt_files(root_folder, output_file_path)         \n",
    "with open(output_file_path, 'w', encoding='utf-8') as output_file:\n",
    "    output_file.write(str(result))\n",
    "print(result)"
   ]
  }
 ],
 "metadata": {
  "kernelspec": {
   "display_name": "blip22",
   "language": "python",
   "name": "python3"
  },
  "language_info": {
   "codemirror_mode": {
    "name": "ipython",
    "version": 3
   },
   "file_extension": ".py",
   "mimetype": "text/x-python",
   "name": "python",
   "nbconvert_exporter": "python",
   "pygments_lexer": "ipython3",
   "version": "3.8.16"
  },
  "orig_nbformat": 4
 },
 "nbformat": 4,
 "nbformat_minor": 2
}
